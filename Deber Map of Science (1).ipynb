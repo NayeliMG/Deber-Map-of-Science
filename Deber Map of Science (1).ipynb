{
 "cells": [
  {
   "cell_type": "markdown",
   "id": "f63fa265",
   "metadata": {},
   "source": [
    "# Map of Science"
   ]
  },
  {
   "cell_type": "markdown",
   "id": "387ca0db",
   "metadata": {},
   "source": [
    "## Read the file pubmed-Molecularc-set.txt, and extract all the US ZIP codes\n",
    "\n",
    "Primero se importa los módulos que se necesitan."
   ]
  },
  {
   "cell_type": "code",
   "execution_count": 2,
   "id": "1ae179c4",
   "metadata": {},
   "outputs": [],
   "source": [
    "import re\n",
    "import csv"
   ]
  },
  {
   "cell_type": "code",
   "execution_count": 3,
   "id": "1f6e24cd",
   "metadata": {},
   "outputs": [],
   "source": [
    "with open('pubmed-Molecularc-set.txt','r') as f:\n",
    "    my_text = f.readline()"
   ]
  },
  {
   "cell_type": "code",
   "execution_count": 4,
   "id": "16775cdc",
   "metadata": {},
   "outputs": [
    {
     "data": {
      "text/plain": [
       "15"
      ]
     },
     "execution_count": 4,
     "metadata": {},
     "output_type": "execute_result"
    }
   ],
   "source": [
    "len(my_text)"
   ]
  },
  {
   "cell_type": "code",
   "execution_count": 5,
   "id": "d8129877",
   "metadata": {},
   "outputs": [],
   "source": [
    "my_text = re.sub(r'\\n\\s{7}','', my_text)"
   ]
  },
  {
   "cell_type": "code",
   "execution_count": 6,
   "id": "ef08a3b9",
   "metadata": {},
   "outputs": [
    {
     "name": "stdout",
     "output_type": "stream",
     "text": [
      "PMID- 31045583\n",
      "\n"
     ]
    }
   ],
   "source": [
    "print(my_text[:2000])"
   ]
  },
  {
   "cell_type": "code",
   "execution_count": 7,
   "id": "c742d5d9",
   "metadata": {},
   "outputs": [],
   "source": [
    "zipcodes = re.findall(r'[A-Z]{2}\\s(\\d{6}), USA', my_text)"
   ]
  },
  {
   "cell_type": "code",
   "execution_count": 8,
   "id": "71b4bb3d",
   "metadata": {},
   "outputs": [
    {
     "data": {
      "text/plain": [
       "0"
      ]
     },
     "execution_count": 8,
     "metadata": {},
     "output_type": "execute_result"
    }
   ],
   "source": [
    "len(zipcodes)"
   ]
  },
  {
   "cell_type": "code",
   "execution_count": 9,
   "id": "c499d2f7",
   "metadata": {},
   "outputs": [
    {
     "data": {
      "text/plain": [
       "[]"
      ]
     },
     "execution_count": 9,
     "metadata": {},
     "output_type": "execute_result"
    }
   ],
   "source": [
    "zipcodes[:15]"
   ]
  },
  {
   "cell_type": "code",
   "execution_count": 10,
   "id": "a8609dd8",
   "metadata": {},
   "outputs": [],
   "source": [
    "zip_country = []\n",
    "zip_long = []\n",
    "zip_lat = []\n",
    "zip_count = []"
   ]
  },
  {
   "cell_type": "code",
   "execution_count": null,
   "id": "23acfca2",
   "metadata": {},
   "outputs": [],
   "source": [
    "for z in unique_zipcodes:\n",
    "    # if we can find the coordinates\n",
    "    if z in zip_coordinates.keys():\n",
    "        zip_country.append(z)\n",
    "        zip_lat.append(zip_coordinates[z][0])\n",
    "        zip_long.append(zip_coordinates[z][1])\n",
    "        zip_count.append(zipcodes.count(z))"
   ]
  },
  {
   "cell_type": "code",
   "execution_count": 11,
   "id": "9b52f663",
   "metadata": {},
   "outputs": [
    {
     "data": {
      "text/plain": [
       "<function matplotlib.pyplot.show(close=None, block=None)>"
      ]
     },
     "execution_count": 11,
     "metadata": {},
     "output_type": "execute_result"
    },
    {
     "data": {
      "image/png": "[encoded data removed]",
      "text/plain": [
       "<Figure size 1296x864 with 2 Axes>"
      ]
     },
     "metadata": {
      "needs_background": "light"
     },
     "output_type": "display_data"
    }
   ],
   "source": [
    "import matplotlib.pyplot as plt\n",
    "%matplotlib inline\n",
    "plt.scatter(zip_long, zip_lat, s = zip_count, c = zip_count)\n",
    "plt.colorbar()\n",
    "plt.xlim(-120, 120)\n",
    "plt.ylim(-90, 90)\n",
    "ard = dict(arrowstyle=\"->\")\n",
    "plt.annotate('Hong kong', xy = (114.109497, 22.396428 ),\n",
    "            xytext = (114.109497, 22.396428), arrowprops = ard)\n",
    "plt.annotate('USA', xy = (-95.712891, 37.09024),\n",
    "            xytext = (-95.712891, 37.09024), arrowprops = ard)\n",
    "plt.annotate('UK', xy = (-3.435973, 55.378051),\n",
    "            xytext = (-3.435973, 55.378051), arrowprops = ard)\n",
    "plt.annotate('Spain', xy = (-3.74922, 40.463667),\n",
    "            xytext = (-3.74922, 40.463667), arrowprops = ard)\n",
    "plt.annotate('France', xy = (2.213749, 46.227638 ),\n",
    "            xytext = (2.213749, 46.227638), arrowprops = ard)\n",
    "plt.annotate('China', xy = (104.195397, 35.86166),\n",
    "            xytext = (104.195397, 35.86166), arrowprops = ard)\n",
    "plt.annotate('Switzerland', xy = (31.465866, -26.522503),\n",
    "            xytext = (31.465866, -26.522503), arrowprops = ard)\n",
    "plt.annotate('Italy', xy = (12.56738, 41.87194),\n",
    "            xytext = (12.56738, 41.87194), arrowprops = ard)\n",
    "plt.annotate('Germany', xy = (10.451526, 51.165691),\n",
    "            xytext = (10.451526, 51.165691), arrowprops = ard)\n",
    "plt.annotate('Israel', xy = (34.851612, 31.046051),\n",
    "            xytext = (34.851612, 31.046051), arrowprops = ard)\n",
    "plt.annotate('Australia', xy = (133.775136, -25.274398 ),\n",
    "            xytext = (133.775136, -25.274398), arrowprops = ard)\n",
    "plt.annotate('Canada', xy = (-106.346771, 56.130366),\n",
    "            xytext = (-106.346771, 56.130366), arrowprops = ard)\n",
    "params = plt.gcf()\n",
    "plSize = params.get_size_inches()\n",
    "params.set_size_inches((plSize[0] * 3, plSize[1] * 3))\n",
    "plt.show"
   ]
  },
  {
   "cell_type": "code",
   "execution_count": null,
   "id": "8a904b79",
   "metadata": {},
   "outputs": [],
   "source": []
  }
 ],
 "metadata": {
  "kernelspec": {
   "display_name": "Python 3",
   "language": "python",
   "name": "python3"
  },
  "language_info": {
   "codemirror_mode": {
    "name": "ipython",
    "version": 3
   },
   "file_extension": ".py",
   "mimetype": "text/x-python",
   "name": "python",
   "nbconvert_exporter": "python",
   "pygments_lexer": "ipython3",
   "version": "3.8.8"
  }
 },
 "nbformat": 4,
 "nbformat_minor": 5
}
